{
 "cells": [
  {
   "cell_type": "markdown",
   "metadata": {},
   "source": [
    "## Machine Learning with NLP, and Introduction\n",
    "##### By Ruben Seoane, all credit to nlpforhackers.io\n",
    "Based on: http://nlpforhackers.io/introduction-machine-learning/"
   ]
  },
  {
   "cell_type": "markdown",
   "metadata": {},
   "source": [
    "### Classifying Boy vs Girl names\n",
    "Dataset can be found here: http://nlpforhackers.io/wp-content/uploads/2017/01/names_dataset.csv\n"
   ]
  },
  {
   "cell_type": "code",
   "execution_count": 3,
   "metadata": {},
   "outputs": [
    {
     "name": "stdout",
     "output_type": "stream",
     "text": [
      "         index       name sex\n",
      "0            0       Mary   F\n",
      "1            1       Anna   F\n",
      "2            2       Emma   F\n",
      "3            3  Elizabeth   F\n",
      "4            4     Minnie   F\n",
      "5            5   Margaret   F\n",
      "6            6        Ida   F\n",
      "7            7      Alice   F\n",
      "8            8     Bertha   F\n",
      "9            9      Sarah   F\n",
      "10          10      Annie   F\n",
      "11          11      Clara   F\n",
      "12          12       Ella   F\n",
      "13          13   Florence   F\n",
      "14          14       Cora   F\n",
      "15          15     Martha   F\n",
      "16          16      Laura   F\n",
      "17          17     Nellie   F\n",
      "18          18      Grace   F\n",
      "19          19     Carrie   F\n",
      "20          20      Maude   F\n",
      "21          21      Mabel   F\n",
      "22          22     Bessie   F\n",
      "23          23     Jennie   F\n",
      "24          24   Gertrude   F\n",
      "25          25      Julia   F\n",
      "26          26     Hattie   F\n",
      "27          27      Edith   F\n",
      "28          28     Mattie   F\n",
      "29          29       Rose   F\n",
      "...        ...        ...  ..\n",
      "94995  1858537     Vahagn   M\n",
      "94996  1858544     Vegeta   M\n",
      "94997  1858551    Vidhaan   M\n",
      "94998  1858557    Viransh   M\n",
      "94999  1858558      Vishv   M\n",
      "95000  1858561     Waaris   M\n",
      "95001  1858575      Xaire   M\n",
      "95002  1858577    Xannder   M\n",
      "95003  1858588   Yahushua   M\n",
      "95004  1858590    Yaidden   M\n",
      "95005  1858591  Yamajesty   M\n",
      "95006  1858594     Yandry   M\n",
      "95007  1858595     Yannai   M\n",
      "95008  1858604      Yiddy   M\n",
      "95009  1858605       Yien   M\n",
      "95010  1858610   Yirmeyah   M\n",
      "95011  1858615   Yordanny   M\n",
      "95012  1858618   Yoshiyah   M\n",
      "95013  1858623      Yurik   M\n",
      "95014  1858625        Ywa   M\n",
      "95015  1858635      Zafer   M\n",
      "95016  1858639     Zaheen   M\n",
      "95017  1858652      Zarar   M\n",
      "95018  1858654     Zareon   M\n",
      "95019  1858655    Zarrien   M\n",
      "95020  1858664   Zecharya   M\n",
      "95021  1858676     Ziheng   M\n",
      "95022  1858679       Ziyu   M\n",
      "95023  1858686      Zykir   M\n",
      "95024  1858688       Zyus   M\n",
      "\n",
      "[95025 rows x 3 columns]\n",
      "95025 names in dataset\n"
     ]
    }
   ],
   "source": [
    "# Let's read the data\n",
    "import pandas as pd\n",
    "import numpy as np\n",
    "\n",
    "names = pd.read_csv('names_dataset.csv')\n",
    "print(names)\n",
    "\n",
    "print (\"%d names in dataset\" % len(names))"
   ]
  },
  {
   "cell_type": "markdown",
   "metadata": {},
   "source": [
    "Using the **pandas library** results in the CSV format transformed into an object called a **DataFrame**, which in this case is not so usefull, so we will perform the following procedure:"
   ]
  },
  {
   "cell_type": "code",
   "execution_count": 5,
   "metadata": {},
   "outputs": [
    {
     "name": "stdout",
     "output_type": "stream",
     "text": [
      "[['Mary' 'F']\n",
      " ['Anna' 'F']\n",
      " ['Emma' 'F']\n",
      " ...\n",
      " ['Ziyu' 'M']\n",
      " ['Zykir' 'M']\n",
      " ['Zyus' 'M']]\n"
     ]
    }
   ],
   "source": [
    "# From dataframe to numpy matrix, keeping only name an gender columns\n",
    "names = names.as_matrix()[:, 1:]\n",
    "print (names)\n",
    "\n",
    "# We're using 80% of the data for training\n",
    "TRAIN_SPLIT = 0.8"
   ]
  },
  {
   "cell_type": "markdown",
   "metadata": {},
   "source": [
    "How do we think a name belongs to a girl or a boy? **We tend to use heuristics**. Generally, names ending in certain letters are boy's names and the ones that end in a different set of letters are for girls, let's try to teach the heuristics to our model:\n",
    "\n"
   ]
  },
  {
   "cell_type": "code",
   "execution_count": 7,
   "metadata": {},
   "outputs": [
    {
     "name": "stdout",
     "output_type": "stream",
     "text": [
      "{'first-letter': 'j', 'first2-letters': 'jo', 'first3-letters': 'joh', 'last-letter': 'n', 'last2-letters': 'hn', 'last3-letters': 'ohn'}\n"
     ]
    }
   ],
   "source": [
    "def features(name):\n",
    "    name = name.lower()\n",
    "    return {\n",
    "        'first-letter': name[0], #First letter\n",
    "        'first2-letters': name[0:2], #First 2 letters\n",
    "        'first3-letters': name[0:3],\n",
    "        'last-letter': name[-1],\n",
    "        'last2-letters': name[-2:],\n",
    "        'last3-letters': name[-3:],\n",
    "    }\n",
    "\n",
    "print (features('John'))"
   ]
  },
  {
   "cell_type": "markdown",
   "metadata": {},
   "source": [
    "Now we expect our ML model to find correlations between these features and the gender:"
   ]
  },
  {
   "cell_type": "code",
   "execution_count": 8,
   "metadata": {},
   "outputs": [
    {
     "name": "stdout",
     "output_type": "stream",
     "text": [
      "[{'first-letter': 'a', 'first2-letters': 'an', 'first3-letters': 'ann', 'last-letter': 'a', 'last2-letters': 'na', 'last3-letters': 'nna'}\n",
      " {'first-letter': 'h', 'first2-letters': 'ha', 'first3-letters': 'han', 'last-letter': 'h', 'last2-letters': 'ah', 'last3-letters': 'nah'}\n",
      " {'first-letter': 'p', 'first2-letters': 'pa', 'first3-letters': 'pau', 'last-letter': 'l', 'last2-letters': 'ul', 'last3-letters': 'aul'}]\n"
     ]
    }
   ],
   "source": [
    "# Vectorize the features function\n",
    "features = np.vectorize(features)\n",
    "print(features(['Anna', \"Hannah\", \"Paul\"]))"
   ]
  },
  {
   "cell_type": "markdown",
   "metadata": {},
   "source": [
    "The **_features_** function needs to work on lists (or arrays) since all the tools we will apply work with this type of input. **Numpy** offers a function for vectorizing our previous output. After this, we apply the feature extraction function on the whole dataset. The result is computed as **X** and the target (what we want to predict) is name **y**."
   ]
  },
  {
   "cell_type": "code",
   "execution_count": 9,
   "metadata": {},
   "outputs": [
    {
     "name": "stdout",
     "output_type": "stream",
     "text": [
      "Name: Mary, features={'first-letter': 'm', 'first2-letters': 'ma', 'first3-letters': 'mar', 'last-letter': 'y', 'last2-letters': 'ry', 'last3-letters': 'ary'}, gender=F\n"
     ]
    }
   ],
   "source": [
    "# Extract the features for the whole dataset\n",
    "X = features(names[:,0]) # X contains the features\n",
    "\n",
    "# Get the gender column\n",
    "y = names[:, 1]   # y contains the targets\n",
    "\n",
    "# Test if the dataset is built correctly\n",
    "print(\"Name: %s, features=%s, gender=%s\" % (names[0][0], X[0], y[0]))"
   ]
  },
  {
   "cell_type": "markdown",
   "metadata": {},
   "source": [
    "After the dataset is sorted, is good to shuffle the data. \n",
    "We'll then sort the data into a **training set** and a second one for **testing**:"
   ]
  },
  {
   "cell_type": "code",
   "execution_count": 10,
   "metadata": {},
   "outputs": [
    {
     "name": "stdout",
     "output_type": "stream",
     "text": [
      "76020 19005 76020 19005\n"
     ]
    }
   ],
   "source": [
    "from sklearn.utils import shuffle\n",
    "X, y = shuffle(X, y)\n",
    "X_train, X_test = X[:int(TRAIN_SPLIT * len(X))], X[int(TRAIN_SPLIT * len(X)):]\n",
    "y_train, y_test = y[:int(TRAIN_SPLIT * len(y))], y[int(TRAIN_SPLIT * len(y)):]\n",
    "\n",
    "# To see if the datasets add up:\n",
    "print(len(X_train), len(X_test), len(y_train), len(y_test))"
   ]
  },
  {
   "cell_type": "markdown",
   "metadata": {},
   "source": [
    "As classifiers are mathematical model and can't work with words or character sequences, we implement the vectorizers to transform our features into feature-vectors. We will use te **Scikit-learn** library"
   ]
  },
  {
   "cell_type": "code",
   "execution_count": 12,
   "metadata": {},
   "outputs": [
    {
     "name": "stdout",
     "output_type": "stream",
     "text": [
      "[{'first-letter': 'm', 'first2-letters': 'ma', 'first3-letters': 'mar', 'last-letter': 'y', 'last2-letters': 'ry', 'last3-letters': 'ary'}\n",
      " {'first-letter': 'j', 'first2-letters': 'jo', 'first3-letters': 'joh', 'last-letter': 'n', 'last2-letters': 'hn', 'last3-letters': 'ohn'}]\n",
      "  (0, 12)\t1.0\n",
      "  (0, 244)\t1.0\n",
      "  (0, 2693)\t1.0\n",
      "  (0, 4500)\t1.0\n",
      "  (0, 4806)\t1.0\n",
      "  (0, 5130)\t1.0\n",
      "  (1, 9)\t1.0\n",
      "  (1, 198)\t1.0\n",
      "  (1, 2236)\t1.0\n",
      "  (1, 4489)\t1.0\n",
      "  (1, 4621)\t1.0\n",
      "  (1, 7164)\t1.0\n"
     ]
    }
   ],
   "source": [
    "from sklearn.feature_extraction import DictVectorizer\n",
    "\n",
    "print (features(['Mary', 'John']))\n",
    "vectorizer = DictVectorizer()\n",
    "vectorizer.fit(X_train)\n",
    "\n",
    "transformed = vectorizer.transform(features(['Mary', 'John']))\n",
    "print(transformed)"
   ]
  },
  {
   "cell_type": "code",
   "execution_count": 13,
   "metadata": {},
   "outputs": [
    {
     "name": "stdout",
     "output_type": "stream",
     "text": [
      "<class 'scipy.sparse.csr.csr_matrix'>\n",
      "1.0\n",
      "first-letter=m\n"
     ]
    }
   ],
   "source": [
    "print(type(transformed))\n",
    "print(transformed.toarray()[0][12])\n",
    "print(vectorizer.feature_names_[12])"
   ]
  },
  {
   "cell_type": "markdown",
   "metadata": {},
   "source": [
    "**The vectorizer needs to be trained to learn the possible features and their potential values** First, we train it using the _fit_ method, then we can vectorize our data using the _transform_ method. Let's see how _transform_ works on the name _\"Mary\"_"
   ]
  },
  {
   "cell_type": "code",
   "execution_count": 14,
   "metadata": {},
   "outputs": [
    {
     "data": {
      "text/plain": [
       "DecisionTreeClassifier(class_weight=None, criterion='gini', max_depth=None,\n",
       "            max_features=None, max_leaf_nodes=None,\n",
       "            min_impurity_decrease=0.0, min_impurity_split=None,\n",
       "            min_samples_leaf=1, min_samples_split=2,\n",
       "            min_weight_fraction_leaf=0.0, presort=False, random_state=None,\n",
       "            splitter='best')"
      ]
     },
     "execution_count": 14,
     "metadata": {},
     "output_type": "execute_result"
    }
   ],
   "source": [
    "from sklearn.tree import DecisionTreeClassifier as dtc\n",
    "\n",
    "clf = dtc()\n",
    "clf.fit(vectorizer.transform(X_train), y_train)"
   ]
  },
  {
   "cell_type": "markdown",
   "metadata": {},
   "source": [
    "A Decision Tree extracts the discriminating rules from the features. The most significant are higher up in the tree, which is to say they have a higher hierarchy, while the less discriminating ones, the ones that define smaller differences and details are lower, on the _leaves_"
   ]
  },
  {
   "cell_type": "code",
   "execution_count": 15,
   "metadata": {},
   "outputs": [
    {
     "data": {
      "image/png": "[encoded data removed]",
      "text/plain": [
       "<IPython.core.display.Image object>"
      ]
     },
     "execution_count": 15,
     "metadata": {},
     "output_type": "execute_result"
    }
   ],
   "source": [
    "from IPython.display import Image\n",
    "Image(\"https://nlpforhackers.io/wp-content/uploads/2017/01/dt-768x371.png\")"
   ]
  },
  {
   "cell_type": "code",
   "execution_count": 16,
   "metadata": {},
   "outputs": [
    {
     "name": "stdout",
     "output_type": "stream",
     "text": [
      "['M' 'F']\n"
     ]
    }
   ],
   "source": [
    "# To make the predictions:\n",
    "print(clf.predict(vectorizer.transform(features([\"Alex\", \"Emma\"]))))"
   ]
  },
  {
   "cell_type": "markdown",
   "metadata": {},
   "source": [
    "Let's measure the accuracy of the model:"
   ]
  },
  {
   "cell_type": "code",
   "execution_count": 17,
   "metadata": {},
   "outputs": [
    {
     "name": "stdout",
     "output_type": "stream",
     "text": [
      "0.9878189950013154\n"
     ]
    }
   ],
   "source": [
    "# Accuracy on training set\n",
    "print(clf.score(vectorizer.transform(X_train), y_train))"
   ]
  },
  {
   "cell_type": "code",
   "execution_count": 18,
   "metadata": {},
   "outputs": [
    {
     "name": "stdout",
     "output_type": "stream",
     "text": [
      "0.8699289660615628\n"
     ]
    }
   ],
   "source": [
    "# Accuracy on test set\n",
    "print(clf.score(vectorizer.transform(X_test), y_test))"
   ]
  },
  {
   "cell_type": "markdown",
   "metadata": {},
   "source": [
    "And here is how the actual model looks like:\n",
    "![classifier](https://nlpforhackers.io/wp-content/uploads/2017/01/Screen-Shot-2017-01-11-at-20.04.07-1024x406.png)"
   ]
  },
  {
   "cell_type": "markdown",
   "metadata": {},
   "source": [
    "The root of the tree discriminates on whether feature 4470 is <= 0.5 (meaning if it's false).\n",
    "To find out what feature 4470 is:"
   ]
  },
  {
   "cell_type": "code",
   "execution_count": 19,
   "metadata": {},
   "outputs": [
    {
     "name": "stdout",
     "output_type": "stream",
     "text": [
      "first3-letters=zyr\n"
     ]
    }
   ],
   "source": [
    "print(vectorizer.feature_names_[4470])"
   ]
  },
  {
   "cell_type": "code",
   "execution_count": null,
   "metadata": {},
   "outputs": [],
   "source": []
  }
 ],
 "metadata": {
  "kernelspec": {
   "display_name": "Python 3",
   "language": "python",
   "name": "python3"
  },
  "language_info": {
   "codemirror_mode": {
    "name": "ipython",
    "version": 3
   },
   "file_extension": ".py",
   "mimetype": "text/x-python",
   "name": "python",
   "nbconvert_exporter": "python",
   "pygments_lexer": "ipython3",
   "version": "3.6.4"
  }
 },
 "nbformat": 4,
 "nbformat_minor": 2
}
