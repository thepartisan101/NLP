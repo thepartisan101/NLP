{
 "cells": [
  {
   "cell_type": "markdown",
   "metadata": {},
   "source": [
    "## FlashText, fast word replacement for NLP tasks\n",
    "##### By Ruben Seoane, adaptation of Analytics Vhidhya https://www.analyticsvidhya.com/blog/2017/11/flashtext-a-library-faster-than-regular-expressions/, all credit goes to them.\n",
    "\n",
    "### Intro\n",
    "When performing NLP tasks, it's usually necessary to search and substitute for certain words during the pre-processing stage.\n",
    "Some cases:\n",
    "    1. Variations of a verbal form _\"would've\"_ for _\"would have\"_\n",
    "    2. Changing case variations and mispellings, like _rubY, Ruby, rUby.._\n",
    "    3. Replacing synonims of a word with one form i.e _happy, joyful, delightful_ to _happy_\n",
    "    \n",
    "If the task needs to be done for thousands of text snippets, utilizing Regular Expressions is a good solution, but when the task at hand includes millions of instances, this process can take up to days. This is where **Flashtext** comes into the picture, as it allows to perform this process within minutes."
   ]
  },
  {
   "cell_type": "markdown",
   "metadata": {},
   "source": [
    "### 1. Installing FlashText"
   ]
  },
  {
   "cell_type": "code",
   "execution_count": null,
   "metadata": {},
   "outputs": [],
   "source": [
    "pip install flashtext"
   ]
  },
  {
   "cell_type": "markdown",
   "metadata": {},
   "source": [
    "### 2. Searching for words in a text document"
   ]
  },
  {
   "cell_type": "code",
   "execution_count": 4,
   "metadata": {},
   "outputs": [],
   "source": [
    "from flashtext.keyword import KeywordProcessor\n",
    "document = \"\"\"Batman is a fictional superhero appearing in American comic books published by DC Comics. The character was created by artist Bob Kane and writer Bill Finger,[4][5] and first appeared in Detective Comics #27 (1939). Originally named the \"Bat-Man\", the character is also referred to by such epithets as the Caped Crusader, the Dark Knight, and the World's Greatest Detective.[6]\n",
    "\n",
    "Batman's secret identity is Bruce Wayne, a wealthy American playboy, philanthropist, and owner of Wayne Enterprises. After witnessing the murder of his parents Dr. Thomas Wayne and Martha Wayne as a child, he swore vengeance against criminals, an oath tempered by a sense of justice. Bruce Wayne trains himself physically and intellectually and crafts a bat-inspired persona to fight crime.[7]\n",
    "\n",
    "Batman operates in the fictional Gotham City with assistance from various supporting characters, including his butler Alfred, police commissioner Gordon, and vigilante allies such as Robin. Unlike most superheroes, Batman does not possess any superpowers; rather, he relies on his genius intellect, physical prowess, martial arts abilities, detective skills, science and technology, vast wealth, intimidation, and indomitable will. A large assortment of villains make up Batman's rogues gallery, including his archenemy, the Joker.\n",
    "\n",
    "The character became popular soon after his introduction in 1939 and gained his own comic book title, Batman, the following year. As the decades went on, differing interpretations of the character emerged. The late 1960s Batman television series used a camp aesthetic, which continued to be associated with the character for years after the show ended. Various creators worked to return the character to his dark roots, culminating in 1986 with The Dark Knight Returns by Frank Miller. The success of Warner Bros.' live-action Batman feature films have helped maintain the character's prominence in mainstream culture.[8]\n",
    "\n",
    "An American cultural icon, Batman has garnered enormous popularity and is among the most identifiable comic book characters. Batman has been licensed and adapted into a variety of media, from radio to television and film, and appears on various merchandise sold around the world, such as toys and video games. The character has also intrigued psychiatrists, with many trying to understand his psyche. In 2015, FanSided ranked Batman as number one on their list of \"50 Greatest Super Heroes In Comic Book History\".[9] Kevin Conroy, Bruce Greenwood, Peter Weller, Anthony Ruivivar, Jason O'Mara, and Will Arnett, among others, have provided the character's voice for animated adaptations. Batman has been depicted in both film and television by Lewis Wilson, Robert Lowery, Adam West, Michael Keaton, Val Kilmer, George Clooney, Christian Bale, and Ben Affleck. \"\"\""
   ]
  },
  {
   "cell_type": "markdown",
   "metadata": {},
   "source": [
    "#### 2.1 Search for single word"
   ]
  },
  {
   "cell_type": "code",
   "execution_count": 6,
   "metadata": {},
   "outputs": [
    {
     "name": "stdout",
     "output_type": "stream",
     "text": [
      "['batman', 'batman', 'batman', 'batman', 'batman', 'batman', 'batman', 'batman', 'batman', 'batman', 'batman', 'batman']\n"
     ]
    }
   ],
   "source": [
    "processor = KeywordProcessor()\n",
    "processor.add_keyword('batman')\n",
    "found = processor.extract_keywords(document)\n",
    "print (found)"
   ]
  },
  {
   "cell_type": "markdown",
   "metadata": {},
   "source": [
    "#### 2.2 Search for multiple words"
   ]
  },
  {
   "cell_type": "code",
   "execution_count": 7,
   "metadata": {},
   "outputs": [
    {
     "name": "stdout",
     "output_type": "stream",
     "text": [
      "['batman', 'batman', 'batman', 'batman', 'batman', 'batman', 'batman', 'batman', 'batman', 'batman', 'batman', 'batman', 'robert']\n"
     ]
    }
   ],
   "source": [
    "processor.add_keywords_from_list(['batman','robert'])\n",
    "found = processor.extract_keywords(document)\n",
    "print (found)"
   ]
  },
  {
   "cell_type": "markdown",
   "metadata": {},
   "source": [
    "#### 2.3 Searching for synonynms with a dictionary"
   ]
  },
  {
   "cell_type": "code",
   "execution_count": 8,
   "metadata": {},
   "outputs": [],
   "source": [
    "processor.add_keywords_from_dict({'batman':['batman','bruce wayne']})\n",
    "found = processor.extract_keywords(document)"
   ]
  },
  {
   "cell_type": "markdown",
   "metadata": {},
   "source": [
    "#### 2.4 Listing location of keywords alongside them"
   ]
  },
  {
   "cell_type": "code",
   "execution_count": 9,
   "metadata": {},
   "outputs": [
    {
     "name": "stdout",
     "output_type": "stream",
     "text": [
      "[('batman', 0, 6), ('batman', 379, 385), ('batman', 407, 418), ('batman', 663, 674), ('batman', 774, 780), ('batman', 989, 995), ('batman', 1245, 1251), ('batman', 1409, 1415), ('batman', 1528, 1534), ('batman', 1834, 1840), ('batman', 1957, 1963), ('batman', 2055, 2061), ('batman', 2356, 2362), ('batman', 2617, 2623), ('robert', 2687, 2693)]\n"
     ]
    }
   ],
   "source": [
    "processor.add_keywords_from_dict({'batman':['batman','bruce wayne']})\n",
    "found = processor.extract_keywords(document, span_info=True)\n",
    "print(found)"
   ]
  },
  {
   "cell_type": "markdown",
   "metadata": {},
   "source": [
    "### 3. Replacing words in a text document"
   ]
  },
  {
   "cell_type": "code",
   "execution_count": 11,
   "metadata": {},
   "outputs": [
    {
     "name": "stdout",
     "output_type": "stream",
     "text": [
      "Bruce Wayne is a fictional superhero appearing in American comic books published by DC Comics. The character was created by artist Bob Kane and writer Bill Finger,[4][5] and first appeared in Detective Comics #27 (1939). Originally named the \"Bat-Man\", the character is also referred to by such epithets as the Caped Crusader, the Dark Knight, and the World's Greatest Detective.[6]\n",
      "\n",
      "Bruce Wayne's secret identity is Bruce Wayne, a wealthy American playboy, philanthropist, and owner of Wayne Enterprises. After witnessing the murder of his parents Dr. Thomas Wayne and Martha Wayne as a child, he swore vengeance against criminals, an oath tempered by a sense of justice. Bruce Wayne trains himself physically and intellectually and crafts a bat-inspired persona to fight crime.[7]\n",
      "\n",
      "Bruce Wayne operates in the fictional Gotham City with assistance from various supporting characters, including his butler Alfred, police commissioner Gordon, and vigilante allies such as Robin. Unlike most superheroes, Bruce Wayne does not possess any superpowers; rather, he relies on his genius intellect, physical prowess, martial arts abilities, detective skills, science and technology, vast wealth, intimidation, and indomitable will. A large assortment of villains make up Bruce Wayne's rogues gallery, including his archenemy, the Joker.\n",
      "\n",
      "The character became popular soon after his introduction in 1939 and gained his own comic book title, Bruce Wayne, the following year. As the decades went on, differing interpretations of the character emerged. The late 1960s Bruce Wayne television series used a camp aesthetic, which continued to be associated with the character for years after the show ended. Various creators worked to return the character to his dark roots, culminating in 1986 with The Dark Knight Returns by Frank Miller. The success of Warner Bros.' live-action Bruce Wayne feature films have helped maintain the character's prominence in mainstream culture.[8]\n",
      "\n",
      "An American cultural icon, Bruce Wayne has garnered enormous popularity and is among the most identifiable comic book characters. Bruce Wayne has been licensed and adapted into a variety of media, from radio to television and film, and appears on various merchandise sold around the world, such as toys and video games. The character has also intrigued psychiatrists, with many trying to understand his psyche. In 2015, FanSided ranked Bruce Wayne as number one on their list of \"50 Greatest Super Heroes In Comic Book History\".[9] Kevin Conroy, Bruce Greenwood, Peter Weller, Anthony Ruivivar, Jason O'Mara, and Will Arnett, among others, have provided the character's voice for animated adaptations. Bruce Wayne has been depicted in both film and television by Lewis Wilson, Robert Lowery, Adam West, Michael Keaton, Val Kilmer, George Clooney, Christian Bale, and Ben Affleck. \n"
     ]
    }
   ],
   "source": [
    "# Replace all ocurrences of the word \"batman\" (case insensitive) with \"Bruce Wayne\"\n",
    "processor = KeywordProcessor(case_sensitive = False)\n",
    "processor.add_keyword('batman', 'Bruce Wayne')\n",
    "found = processor.replace_keywords(document)\n",
    "print(found)"
   ]
  },
  {
   "cell_type": "markdown",
   "metadata": {},
   "source": [
    "#### For the library documentation:\n",
    "https://github.com/vi3k6i5/flashtext"
   ]
  },
  {
   "cell_type": "code",
   "execution_count": null,
   "metadata": {},
   "outputs": [],
   "source": []
  }
 ],
 "metadata": {
  "kernelspec": {
   "display_name": "Python 3",
   "language": "python",
   "name": "python3"
  },
  "language_info": {
   "codemirror_mode": {
    "name": "ipython",
    "version": 3
   },
   "file_extension": ".py",
   "mimetype": "text/x-python",
   "name": "python",
   "nbconvert_exporter": "python",
   "pygments_lexer": "ipython3",
   "version": "3.6.4"
  }
 },
 "nbformat": 4,
 "nbformat_minor": 2
}
