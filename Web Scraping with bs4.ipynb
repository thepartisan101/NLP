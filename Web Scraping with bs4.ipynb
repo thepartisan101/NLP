{
 "cells": [
  {
   "cell_type": "markdown",
   "metadata": {},
   "source": [
    "## Web Scraping with Beautiful Soup 4\n",
    "##### By Ruben Seoane, based on the following tutorial, all credit goes to Data Science Dojo: https://www.youtube.com/watch?v=XQgXKtPSzUI&t=315s\n"
   ]
  },
  {
   "cell_type": "code",
   "execution_count": null,
   "metadata": {},
   "outputs": [],
   "source": [
    "#Install Beautiful Soup 4\n",
    "pip install bs4"
   ]
  },
  {
   "cell_type": "code",
   "execution_count": 9,
   "metadata": {},
   "outputs": [],
   "source": [
    "# Importing libraries\n",
    "import bs4\n",
    "import urllib\n",
    "from bs4 import BeautifulSoup as soup\n",
    "from urllib.request import urlopen as uReq\n",
    "\n",
    "my_url = \"https://www.newegg.com/Product/ProductList.aspx?Submit=ENE&DEPA=0&Order=BESTMATCH&Description=gtx+1080&N=-1&isNodeId=1\"\n",
    "\n",
    "# Start connection to download page\n",
    "uClient = uReq(my_url)\n",
    "page_html = uClient.read()\n",
    "\n",
    "# Parsing HTML\n",
    "page_soup = soup(page_html, \"html.parser\")\n"
   ]
  },
  {
   "cell_type": "code",
   "execution_count": 13,
   "metadata": {},
   "outputs": [
    {
     "data": {
      "text/plain": [
       "<h1 class=\"page-title-text\">\"gtx 1080\"</h1>"
      ]
     },
     "execution_count": 13,
     "metadata": {},
     "output_type": "execute_result"
    }
   ],
   "source": [
    "# Testing that webpage got parsed correctly\n",
    "page_soup.h1"
   ]
  },
  {
   "cell_type": "code",
   "execution_count": 12,
   "metadata": {},
   "outputs": [
    {
     "data": {
      "text/plain": [
       "<span class=\"noCSS\">Skip to:</span>"
      ]
     },
     "execution_count": 12,
     "metadata": {},
     "output_type": "execute_result"
    }
   ],
   "source": [
    "page_soup.body.span"
   ]
  },
  {
   "cell_type": "code",
   "execution_count": 16,
   "metadata": {},
   "outputs": [
    {
     "data": {
      "text/plain": [
       "36"
      ]
     },
     "execution_count": 16,
     "metadata": {},
     "output_type": "execute_result"
    }
   ],
   "source": [
    "# Grab each product from existing page, and check # items in page\n",
    "containers = page_soup.findAll(\"div\",{\"class\":\"item-container\"})\n",
    "len(containers)"
   ]
  },
  {
   "cell_type": "code",
   "execution_count": null,
   "metadata": {},
   "outputs": [],
   "source": [
    "# Let's print the HTML for one of the \"item-container\" elements\n",
    "containers[0]"
   ]
  },
  {
   "cell_type": "code",
   "execution_count": 27,
   "metadata": {},
   "outputs": [
    {
     "data": {
      "text/plain": [
       "30"
      ]
     },
     "execution_count": 27,
     "metadata": {},
     "output_type": "execute_result"
    }
   ],
   "source": [
    "# Extracting results into a CSV\n",
    "filename = \"products.csv\"\n",
    "f = open(filename, \"w\")\n",
    "headers = \"Brand, Product Name, Shipping\\n\"\n",
    "f.write(headers)"
   ]
  },
  {
   "cell_type": "code",
   "execution_count": 28,
   "metadata": {},
   "outputs": [
    {
     "name": "stdout",
     "output_type": "stream",
     "text": [
      "Brand: EVGA\n",
      "Product name: EVGA GeForce GTX 1080 Ti SC2 GAMING, 11G-P4-6593-KR, 11GB GDDR5X, iCX Technology - 9 Thermal Sensors & RGB LED G/P/M\n",
      "Shipping: $4.99 Shipping\n",
      "Brand: GIGABYTE\n",
      "Product name: GIGABYTE GeForce GTX 1080 DirectX 12 GV-N1080WF3OC-8GD 8GB 256-Bit GDDR5X PCI Express 3.0 x16 SLI Support ATX Video Card\n",
      "Shipping: $4.99 Shipping\n",
      "Brand: EVGA\n",
      "Product name: EVGA GeForce GTX 1080 Ti SC Black Edition GAMING, 11G-P4-6393-KR, 11GB GDDR5X, iCX Cooler & LED\n",
      "Shipping: $4.99 Shipping\n",
      "Brand: EVGA\n",
      "Product name: EVGA GeForce GTX 1080 SC GAMING ACX 3.0, 08G-P4-6183-KR, 8GB GDDR5X, LED, DX12 OSD Support (PXOC)\n",
      "Shipping: $4.99 Shipping\n",
      "Brand: GIGABYTE\n",
      "Product name: GIGABYTE GeForce GTX 1080 DirectX 12 GV-N1080IX-8GD 8GB 256-Bit GDDR5X PCI Express 3.0 x16 SLI Support ATX Video Card\n",
      "Shipping: $4.99 Shipping\n",
      "Brand: EVGA\n",
      "Product name: EVGA GeForce GTX 1080 SC2 GAMING iCX, 08G-P4-6583-KR, 8GB GDDR5X, 9 Thermal Sensors, Asynchronous Fan Control, Thermal Display LED System, Optimized Airflow Fin Design, Die Cast/Form Fitted Baseplate\n",
      "Shipping: $4.99 Shipping\n",
      "Brand: GIGABYTE\n",
      "Product name: GIGABYTE GeForce GTX 1080 G1 Gaming GV-N1080G1 GAMING-8GD Video Card\n",
      "Shipping: $4.99 Shipping\n",
      "Brand: MSI\n",
      "Product name: MSI GeForce GTX 1080 DirectX 12 GTX 1080 DUKE 8G OC 8GB 256-Bit GDDR5X PCI Express 3.0 x16 HDCP Ready SLI Support Video Cards\n",
      "Shipping: Free Shipping\n",
      "Brand: MSI\n",
      "Product name: MSI GeForce GTX 1080 DirectX 12 GTX 1080 GAMING X 8G 8GB 256-Bit GDDR5X PCI Express 3.0 x16 HDCP Ready SLI Support ATX Video Card\n",
      "Shipping: $4.99 Shipping\n",
      "Brand: EVGA\n",
      "Product name: EVGA GeForce GTX 1080 FTW HYBRID GAMING, 08G-P4-6288-KR, 8GB GDDR5X, RGB LED, All-In-One Watercooling with 10CM FAN, 10 Power Phases, Double BIOS, DX12 OSD Support (PXOC)\n",
      "Shipping: $4.99 Shipping\n",
      "Brand: MSI\n",
      "Product name: MSI GeForce GTX 1080 DirectX 12 GTX 1080 GAMING 8G 8GB 256-Bit GDDR5X PCI Express 3.0 x16 HDCP Ready SLI Support ATX Video Card\n",
      "Shipping: Free Shipping\n",
      "Brand: EVGA\n",
      "Product name: EVGA GeForce GTX 1080 FTW2 GAMING iCX, 08G-P4-6686-KR, 8GB GDDR5X, RGB LED, 9 Thermal Sensors, Asynchronous Fan Control, Thermal Display LED System, Optimized Airflow Fin Design, Die Cast/Form Fitted\n",
      "Shipping: $4.99 Shipping\n",
      "Brand: ASUS\n",
      "Product name: ASUS ROG GeForce GTX 1080 STRIX-GTX1080-A8G-GAMING 8GB 256-Bit GDDR5X PCI Express 3.0 HDCP Ready Video Card\n",
      "Shipping: Free Shipping\n",
      "Brand: ZOTAC\n",
      "Product name: ZOTAC GeForce GTX 1080 Mini, ZT-P10800H-10P, 8GB GDDR5X IceStorm Cooling, Dual Fans, 90mm Pressure Optimized Fan, 100mm Maximum Airflow Optimized Fan, Direct GPU Copper Block Contact, Metal Back Plate\n",
      "Shipping: Free Shipping\n",
      "Brand: MSI\n",
      "Product name: MSI GeForce GTX 1080 DirectX 12 GTX 1080 ARMOR 8G OC 8GB 256-Bit GDDR5X PCI Express 3.0 x16 HDCP Ready SLI Support ATX Video Card\n",
      "Shipping: $4.99 Shipping\n",
      "Brand: MSI\n",
      "Product name: MSI GeForce GTX 1080 DirectX 12 GTX 1080 AERO 8G OC 8GB 256-Bit GDDR5X PCI Express 3.0 x16 HDCP Ready SLI Support ATX Video Card\n",
      "Shipping: $4.99 Shipping\n",
      "Brand: GIGABYTE\n",
      "Product name: GIGABYTE AORUS GeForce GTX 1080 Gaming Box DirectX 12 GV-N1080IXEB-8GD eGPU\n",
      "Shipping: $4.99 Shipping\n",
      "Brand: ZOTAC\n",
      "Product name: ZOTAC GeForce GTX 1080 AMP! Edition, ZT-P10800C-10P, 8GB GDDR5X IceStorm Cooling, Metal Wraparound Carbon ExoArmor Exterior, Ultra-wide 100mm Fans, Spectra Lighting, PowerBoost, FREEZE Fan Stop\n",
      "Shipping: Free Shipping\n",
      "Brand: ASUS\n",
      "Product name: ASUS GeForce GTX 1080 TURBO-GTX1080-8G 8GB 256-Bit GDDR5X PCI Express 3.0 HDCP Ready SLI Support Video Card\n",
      "Shipping: $4.99 Shipping\n",
      "Brand: MSI\n",
      "Product name: MSI GeForce GTX 1080 DirectX 12 GTX 1080 SEA HAWK EK X 8GB 256-Bit GDDR5X PCI Express 3.0 x16 HDCP Ready SLI Support ATX Video Card\n",
      "Shipping: Free Shipping\n",
      "Brand: EVGA\n",
      "Product name: EVGA GeForce GTX 1080 GAMING ACX 3.0, 08G-P4-6181-KR, 8GB GDDR5X, LED, DX12 OSD Support (PXOC)\n",
      "Shipping: Free Shipping\n",
      "Brand: GIGABYTE\n",
      "Product name: GIGABYTE GeForce GTX 1080 DirectX 12 GV-N1080TTOC-8GD 8GB 256-Bit GDDR5X PCI Express 3.0 x16 SLI Support ATX Turbo OC Video Card\n",
      "Shipping: Free Shipping\n",
      "Brand: EVGA\n",
      "Product name: EVGA GeForce GTX 1080 DirectX 12 08G-P4-6284-KR 8GB 256-Bit GDDR5X PCI Express 3.0 HDCP Ready SLI Support FTW DT GAMING ACX 3.0 Video Card\n",
      "Shipping: Free Shipping\n",
      "Brand: EVGA\n",
      "Product name: EVGA GeForce GTX 1080 DirectX 12 08G-P4-5180-KR 8GB 256-Bit GDDR5X PCI Express 3.0 SLI Support GAMING Video Card\n",
      "Shipping: Free Shipping\n",
      "Brand: ASUS\n",
      "Product name: ASUS ROG GeForce GTX 1080 Ti DirectX 12 STRIX-GTX1080TI-O11G-GAMING 11GB 352-Bit GDDR5X PCI Express 3.0 HDCP Ready Video Card\n",
      "Shipping: Free Shipping\n",
      "Brand: EVGA\n",
      "Product name: EVGA GeForce GTX 1080 Ti FTW3 HYBRID GAMING, 11G-P4-6698-KR, 11GB GDDR5X, HYBRID & RGB LED, iCX Technology - 9 Thermal Sensors\n",
      "Shipping: Free Shipping\n",
      "Brand: GIGABYTE\n",
      "Product name: GIGABYTE GeForce GTX 1080 DirectX 12 GV-N1080D5X-8GD 8GB 256-Bit GDDR5X PCI Express 3.0 x16 SLI Support ATX Video Cards\n",
      "Shipping: $4.99 Shipping\n",
      "Brand: MSI\n",
      "Product name: MSI GeForce GTX 1080 DirectX 12 GeForce GTX 1080 DUKE 8G 8GB 256-Bit GDDR5X PCI Express 3.0 x16 SLI Support Video Card\n",
      "Shipping: Free Shipping\n",
      "Brand: PNY Technologies, Inc.\n",
      "Product name: PNY GeForce GTX 1080 DirectX 12 VCGGTX10808XGPB-OC2 8GB 256-Bit GDDR5X PCI Express 3.0 x16 Video Card\n",
      "Shipping: $4.99 Shipping\n",
      "Brand: PNY Technologies, Inc.\n",
      "Product name: PNY GeForce GTX 1080 DirectX 12 VCGGTX10808XGPB-OC 8GB 256-Bit GDDR5X PCI Express 3.0 x16 SLI Support XLR8 Gaming OC Edition Video Card\n",
      "Shipping: Free Shipping\n",
      "Brand: GIGABYTE\n",
      "Product name: GIGABYTE GeForce GTX 1080 Ti DirectX 12 GV-N108TGAMINGOC BLACK-11GD 11GB 352-Bit GDDR5X PCI Express 3.0 x16 ATX Video Card\n",
      "Shipping: $4.99 Shipping\n",
      "Brand: MSI\n",
      "Product name: MSI GeForce GTX 1080 Ti DirectX 12 GeForce GTX 1080 Ti GAMING X 11G 11GB 352-Bit GDDR5X PCI Express 3.0 x16 HDCP Ready SLI Support Video Card\n",
      "Shipping: Free Shipping\n",
      "Brand: MSI\n",
      "Product name: Refurbished: MSI GeForce GTX 1080 DirectX 12 MSI-GTX1080ARMOR8GOC-RFB 8GB 256-Bit GDDR5X PCI Express 3.0 x16 HDCP Ready SLI Support Video Card\n",
      "Shipping: Free Shipping\n",
      "Brand: EVGA\n",
      "Product name: EVGA GeForce GTX 1080 Ti FTW3 GAMING, 11G-P4-6696-KR, 11GB GDDR5X, iCX Technology - 9 Thermal Sensors & RGB LED G/P/M\n",
      "Shipping: $7.99 Shipping\n",
      "Brand: GIGABYTE\n",
      "Product name: GIGABYTE GeForce GTX 1080 Ti DirectX 12 GV-N108TGAMING OC-11GD 11GB 352-Bit GDDR5X PCI Express 3.0 x16 ATX Video Card\n",
      "Shipping: Free Shipping\n",
      "Brand: GIGABYTE\n",
      "Product name: GIGABYTE AORUS GeForce GTX 1080 Ti DirectX 12 GV-N108TAORUS-11GD 11GB 352-Bit GDDR5X PCI Express 3.0 x16 SLI Support ATX Video Card\n",
      "Shipping: Free Shipping\n"
     ]
    }
   ],
   "source": [
    "# Create loop to obtain \"title\" within IMG element inside <a>\n",
    "for container in containers:\n",
    "    brand = container.div.div.a.img['title']\n",
    "    \n",
    "    title_container = container.findAll(\"a\",{\"class\":\"item-title\"})\n",
    "    product_name = title_container[0].text\n",
    "    \n",
    "    shipping_container = container.findAll(\"li\",{'class':\"price-ship\"})\n",
    "    shipping = shipping_container[0].text.strip()\n",
    "    \n",
    "    print(\"Brand: \" + brand)\n",
    "    print(\"Product name: \" + product_name)\n",
    "    print(\"Shipping: \" + shipping)\n",
    "    \n",
    "    f.write(brand + \",\" + product_name.replace(\",\",\"|\") +\",\" + shipping + \"\\n\")\n",
    "    \n",
    "f.close()"
   ]
  },
  {
   "cell_type": "markdown",
   "metadata": {},
   "source": [
    "_Make sure that you initialize your Jupyter Notebook within the desired folder and that this folder is included in PATH to avoid \"Module Not Found\" problem. Your CSV file should appear in this folder as well_"
   ]
  },
  {
   "cell_type": "code",
   "execution_count": null,
   "metadata": {},
   "outputs": [],
   "source": []
  }
 ],
 "metadata": {
  "kernelspec": {
   "display_name": "Python 3",
   "language": "python",
   "name": "python3"
  },
  "language_info": {
   "codemirror_mode": {
    "name": "ipython",
    "version": 3
   },
   "file_extension": ".py",
   "mimetype": "text/x-python",
   "name": "python",
   "nbconvert_exporter": "python",
   "pygments_lexer": "ipython3",
   "version": "3.6.4"
  }
 },
 "nbformat": 4,
 "nbformat_minor": 2
}
